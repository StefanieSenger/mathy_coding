{
 "cells": [
  {
   "cell_type": "markdown",
   "metadata": {},
   "source": [
    "# Summation Exercises\n",
    "Some exercises on the summation symbol and on coding it.\n",
    "\n",
    "## Basic Exercises (Summation Rules)\n",
    "\n",
    "1. Simplify Basic Summations:</br>\n",
    "\n",
    "   $\\sum_{i=1}^5 3 = 3+3+3+3+3 = 5*3 = 15$\n",
    "\n",
    "   $\\sum_{i=1}^n 5 = n*5$\n",
    "   \n",
    "   $\\sum_{i=1}^n i = 1+2+3+4+...+n-2+n-1+n = n*(n+1)/2$"
   ]
  },
  {
   "cell_type": "code",
   "execution_count": 4,
   "metadata": {},
   "outputs": [
    {
     "data": {
      "text/plain": [
       "55.0"
      ]
     },
     "execution_count": 4,
     "metadata": {},
     "output_type": "execute_result"
    }
   ],
   "source": [
    "import numpy as np\n",
    "n = 10\n",
    "np.sum(n*(n+1)/2)"
   ]
  },
  {
   "cell_type": "markdown",
   "metadata": {},
   "source": [
    "2. Factor Out Constants: </br>\n",
    "\n",
    "   $\\sum_{i=1}^n 3i = 3*n*(n+1)/2 = 3/2 * n*(n+1)$\n",
    "   \n",
    "   $\\sum_{i=1}^n 2a = 2an$\n",
    "\n",
    "3. Distribute Summations: </br>\n",
    "\n",
    "   $\\sum_{i=1}^n a_i = \\sum_{i=1}^n a_i$ (we can't simplify this further)\n",
    "\n",
    "   $\\sum_{i=1}^n (a_i + b_i) = \\sum_{i=1}^n a_i  + \\sum_{i=1}^n b_i$\n",
    "\n",
    "   $\\sum_{i=1}^n (2a_i - 3b_i) = 2*\\sum_{i=1}^n a_i  - 3*\\sum_{i=1}^n b_i$"
   ]
  },
  {
   "cell_type": "code",
   "execution_count": 5,
   "metadata": {},
   "outputs": [
    {
     "name": "stdout",
     "output_type": "stream",
     "text": [
      "6\n",
      "66\n",
      "-168\n"
     ]
    }
   ],
   "source": [
    "a = np.asarray([1,2,3])\n",
    "b = np.asarray([10,20,30])\n",
    "\n",
    "print(a.sum())\n",
    "print(a.sum()+b.sum())\n",
    "print(2*a.sum()-3*b.sum())"
   ]
  },
  {
   "cell_type": "markdown",
   "metadata": {},
   "source": [
    "---\n",
    "## Intermediate Exercises (Double Sums)\n",
    "\n",
    "4. Write it out fully and evaluate for: $x_{1,1} = 1, x_{1,2} = 2, \\dots, x_{3,2} = 6$: </br>\n",
    "\n",
    "   $\\sum_{i=1}^3 \\sum_{j=1}^2 x_{i,j} = \\sum_{i=1}^3 (x_{i,1} + x_{i,2}) = x_{1,1} + x_{1,2} + x_{2,1} + x_{2,2} + x_{3,1} + x_{3,2} = 1+4+2+5+3+6 = 21$</br>\n",
    "\n",
    "5. Swap the Order of Summation:</br>\n",
    "\n",
    "   $\\sum_{i=1}^3 \\sum_{j=1}^4 x_{i,j} = \\sum_{j=1}^4 \\sum_{i=1}^3 x_{i,j}$\n",
    "\n",
    "6. Rewrite it by reversing the order of summation: </br>\n",
    "\n",
    "   $\\sum_{i=1}^n \\sum_{j=1}^i x_j = \\sum_{j=1}^n \\sum_{i=1}^{n+1-j} x_j$\n",
    "\n",
    "   - Here, the `i` which is the upper bound of the inner sum DEPENDS FROM and CHANGES WITH the outer sum! </br> \n",
    "   \n",
    "      Without knowing some unspoken conventions, you cannot detect this from just looking at the formula.\n",
    "\n",
    "   - I'm unsure if my solution is correct. ChatGPT says its incorrect and the correct solution is $\\sum_{j=1}^n \\sum_{i=j}^n x_j$, but this seems incorrect to me. So I will check, manually first, then using computation.\n",
    "\n",
    "   - I have made tables like this to understand how this works:\n",
    "\n",
    "      - table for the original formula $\\sum_{i=1}^n \\sum_{j=1}^i x_j$\n",
    "         |     | j=1 | j=2 | j=3 | ... |\n",
    "         |-----|-----|-----|-----|-----|\n",
    "         | i=1 | x_1 |     |     |     |\n",
    "         | i=2 | x_1 | x_2 |     |     |\n",
    "         | i=3 | x_1 | x_2 | x_3 |     |\n",
    "         | ... |     |     |     |     |\n",
    "      </br></br>\n",
    "\n",
    "      - table for my solution formula $\\sum_{j=1}^n \\sum_{i=1}^{n+1-j} x_j$\n",
    "\n",
    "         |     | i=1 | i=2 | i=3 | ... |\n",
    "         |-----|-----|-----|-----|-----|\n",
    "         | j=1 | x_1 | x_2 | x_3 |     |\n",
    "         | j=2 | x_1 | x_2 |     |     |\n",
    "         | j=3 | x_1 |     |     |     |\n",
    "         | ... |     |     |     |     |\n",
    "      </br></br>\n",
    "\n",
    "      - table for ChatGPTs solution formula $\\sum_{j=1}^n \\sum_{i=j}^n x_j$\n",
    "\n",
    "         |     | i=j | i=j+1 | i=j+2 | ... |\n",
    "         |-----|-----|-------|-------|-----|\n",
    "         | j=1 | x_1 |  x_2  |  x_3  |     |\n",
    "         | j=2 | x_2 |  x_3  |       |     |\n",
    "         | j=3 | x_3 |       |       |     |\n",
    "         | ... |     |       |       |     |\n",
    "         - this is not the same as above, if I've done it correct"
   ]
  },
  {
   "cell_type": "code",
   "execution_count": 6,
   "metadata": {},
   "outputs": [],
   "source": [
    "x = np.array([1,2,3])\n",
    "n = x.shape[0]"
   ]
  },
  {
   "cell_type": "markdown",
   "metadata": {},
   "source": [
    "   - Coding and evaluating the original formula $\\sum_{i=1}^n \\sum_{j=1}^i x_j$:"
   ]
  },
  {
   "cell_type": "code",
   "execution_count": 7,
   "metadata": {},
   "outputs": [
    {
     "data": {
      "text/plain": [
       "10"
      ]
     },
     "execution_count": 7,
     "metadata": {},
     "output_type": "execute_result"
    }
   ],
   "source": [
    "result = 0\n",
    "\n",
    "for i in range(1, n+1):\n",
    "    for j in range(1, i+1):\n",
    "        result += x[j-1]\n",
    "\n",
    "result"
   ]
  },
  {
   "cell_type": "markdown",
   "metadata": {},
   "source": [
    "   - Coding and evaluating my solution $\\sum_{j=1}^n \\sum_{i=1}^{n+1-j} x_j$:"
   ]
  },
  {
   "cell_type": "code",
   "execution_count": 9,
   "metadata": {},
   "outputs": [
    {
     "data": {
      "text/plain": [
       "10"
      ]
     },
     "execution_count": 9,
     "metadata": {},
     "output_type": "execute_result"
    }
   ],
   "source": [
    "result = 0\n",
    "\n",
    "for j in range(1, n+1):\n",
    "    for i in range(1, n+2-j):\n",
    "        result += x[j-1]\n",
    "\n",
    "result"
   ]
  },
  {
   "cell_type": "markdown",
   "metadata": {},
   "source": [
    "   - Coding and evaluating ChatGPTs solution $\\sum_{j=1}^n \\sum_{i=j}^n x_j$:"
   ]
  },
  {
   "cell_type": "code",
   "execution_count": 10,
   "metadata": {},
   "outputs": [
    {
     "data": {
      "text/plain": [
       "18"
      ]
     },
     "execution_count": 10,
     "metadata": {},
     "output_type": "execute_result"
    }
   ],
   "source": [
    "result = 0\n",
    "\n",
    "for j in range(1, n+1):\n",
    "    for i in range(1, n+1):\n",
    "        result += x[j-1]\n",
    "\n",
    "result"
   ]
  },
  {
   "cell_type": "markdown",
   "metadata": {},
   "source": [
    "- After looking at the code implementations, I still believe my answer is correct and ChatGPT is wrong. After discussing with it a bit more, it finally agreed that I was right, but what does this mean?"
   ]
  },
  {
   "cell_type": "markdown",
   "metadata": {},
   "source": [
    "---\n",
    "\n",
    "more exercises I plan to do later:\n",
    "## Advanced Exercises (Manipulating Formulas)\n",
    "\n",
    "7. Split Double Sums:\n",
    "   Simplify:\n",
    "   $$\n",
    "   \\sum_{i=1}^n \\sum_{j=1}^m (a_i + b_j)\n",
    "   $$\n",
    "\n",
    "8. Combine Double Sums:\n",
    "   Combine into a single summation:\n",
    "   $$\n",
    "   \\sum_{i=1}^n x_i + \\sum_{j=1}^m y_j\n",
    "   $$\n",
    "\n",
    "9. Factor Out Variables:\n",
    "   Simplify:\n",
    "   $$\n",
    "   \\sum_{i=1}^n \\sum_{j=1}^m (a_i b_j) = ?\n",
    "   $$\n",
    "\n",
    "---"
   ]
  },
  {
   "cell_type": "markdown",
   "metadata": {},
   "source": [
    "## Coding Exercises\n",
    "\n",
    "10. Write Code to Compute Summations:\n",
    "    a. Write a program to compute:\n",
    "    $$\n",
    "    \\sum_{i=1}^n i^2\n",
    "    $$\n",
    "    b. Write a nested loop to compute:\n",
    "    $$\n",
    "    \\sum_{i=1}^m \\sum_{j=1}^n x_{i,j}\n",
    "    $$\n",
    "\n",
    "11. Reverse Summation in Code:\n",
    "    Given:\n",
    "    $$\n",
    "    \\sum_{i=1}^n \\sum_{j=1}^i x_j\n",
    "    $$\n",
    "    Write code to compute it by swapping the summation order.\n",
    "\n",
    "12. Optimize Code for Large Summations:\n",
    "    Compute:\n",
    "    $$\n",
    "    \\sum_{i=1}^{100000} \\sum_{j=1}^{1000} (i \\cdot j)\n",
    "    $$\n",
    "    Optimize it by un-nesting the sums.\n"
   ]
  },
  {
   "cell_type": "markdown",
   "metadata": {},
   "source": [
    "13. Write a nested loop to compute:\n",
    "\n",
    "$$ \\sum_{i=1}^m \\sum_{j=1}^n x_{i,j} $$\n",
    "\n",
    "14. Simplify Nested Summation:\n",
    "\n",
    "$$ \\sum_{i=1}^n \\sum_{j=1}^n (i + j) $$\n",
    "\n",
    "15. Weighted Average\n",
    "\n",
    "$$ \\hat{y} = \\sum_{i=1}^n w_i y_i $$\n",
    "\n",
    "16. Dot Product with Summation\n",
    "\n",
    "$$ \\mathbf{a} \\cdot \\mathbf{b} = \\sum_{i=1}^n a_i b_i $$\n"
   ]
  },
  {
   "cell_type": "markdown",
   "metadata": {},
   "source": []
  }
 ],
 "metadata": {
  "kernelspec": {
   "display_name": "isl",
   "language": "python",
   "name": "python3"
  },
  "language_info": {
   "codemirror_mode": {
    "name": "ipython",
    "version": 3
   },
   "file_extension": ".py",
   "mimetype": "text/x-python",
   "name": "python",
   "nbconvert_exporter": "python",
   "pygments_lexer": "ipython3",
   "version": "3.12.2"
  }
 },
 "nbformat": 4,
 "nbformat_minor": 2
}
