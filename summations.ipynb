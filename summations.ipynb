{
 "cells": [
  {
   "cell_type": "markdown",
   "metadata": {},
   "source": [
    "# Summation Exercises\n",
    "Some exercises on the summation symbol and on coding it.\n",
    "\n",
    "## Basic Exercises (Summation Rules)\n",
    "\n",
    "1. Simplify Basic Summations:</br>\n",
    "\n",
    "   $\\sum_{i=1}^5 3 = 3+3+3+3+3 = 5*3 = 15$\n",
    "\n",
    "   $\\sum_{i=1}^n 5 = n*5$\n",
    "   \n",
    "   $\\sum_{i=1}^n i = 1+2+3+4+...+n-2+n-1+n = n*(n+1)/2$"
   ]
  },
  {
   "cell_type": "code",
   "execution_count": 4,
   "metadata": {},
   "outputs": [
    {
     "data": {
      "text/plain": [
       "55.0"
      ]
     },
     "execution_count": 4,
     "metadata": {},
     "output_type": "execute_result"
    }
   ],
   "source": [
    "import numpy as np\n",
    "n = 10\n",
    "np.sum(n*(n+1)/2)"
   ]
  },
  {
   "cell_type": "markdown",
   "metadata": {},
   "source": [
    "2. Factor Out Constants: </br>\n",
    "\n",
    "   $\\sum_{i=1}^n 3i = 3*n*(n+1)/2 = 3/2 * n*(n+1)$\n",
    "   \n",
    "   $\\sum_{i=1}^n 2a = 2an$\n",
    "\n",
    "3. Distribute Summations: </br>\n",
    "\n",
    "   $\\sum_{i=1}^n a_i = \\sum_{i=1}^n a_i$ (we can't simplify this further)\n",
    "\n",
    "   $\\sum_{i=1}^n (a_i + b_i) = \\sum_{i=1}^n a_i  + \\sum_{i=1}^n b_i$\n",
    "\n",
    "   $\\sum_{i=1}^n (2a_i - 3b_i) = 2*\\sum_{i=1}^n a_i  - 3*\\sum_{i=1}^n b_i$"
   ]
  },
  {
   "cell_type": "code",
   "execution_count": 5,
   "metadata": {},
   "outputs": [
    {
     "name": "stdout",
     "output_type": "stream",
     "text": [
      "6\n",
      "66\n",
      "-168\n"
     ]
    }
   ],
   "source": [
    "a = np.asarray([1,2,3])\n",
    "b = np.asarray([10,20,30])\n",
    "\n",
    "print(a.sum())\n",
    "print(a.sum()+b.sum())\n",
    "print(2*a.sum()-3*b.sum())"
   ]
  },
  {
   "cell_type": "markdown",
   "metadata": {},
   "source": [
    "---\n",
    "## Intermediate Exercises (Double Sums)\n",
    "\n",
    "4. Write it out fully and evaluate for: $x_{1,1} = 1, x_{1,2} = 2, \\dots, x_{3,2} = 6$: </br>\n",
    "\n",
    "   $\\sum_{i=1}^3 \\sum_{j=1}^2 x_{i,j} = \\sum_{i=1}^3 (x_{i,1} + x_{i,2}) = x_{1,1} + x_{1,2} + x_{2,1} + x_{2,2} + x_{3,1} + x_{3,2} = 1+4+2+5+3+6 = 21$</br>\n",
    "\n",
    "5. Swap the Order of Summation:</br>\n",
    "\n",
    "   $\\sum_{i=1}^3 \\sum_{j=1}^4 x_{i,j} = \\sum_{j=1}^4 \\sum_{i=1}^3 x_{i,j}$\n",
    "\n",
    "6. Rewrite it by reversing the order of summation: </br>\n",
    "\n",
    "   $\\sum_{i=1}^n \\sum_{j=1}^i x_j = \\sum_{j=1}^n \\sum_{i=1}^{n+1-j} x_j$\n",
    "\n",
    "   - Here, the `i` which is the upper bound of the inner sum DEPENDS FROM and CHANGES WITH the outer sum! </br> \n",
    "   \n",
    "      Without knowing some unspoken conventions, you cannot detect this from just looking at the formula.\n",
    "\n",
    "   - I'm unsure if my solution is correct. ChatGPT says its incorrect and the correct solution is $\\sum_{j=1}^n \\sum_{i=j}^n x_j$, but this seems incorrect to me. So I will check, manually first, then using computation.\n",
    "\n",
    "   - I have made tables like this to understand how this works:\n",
    "\n",
    "      - table for the original formula $\\sum_{i=1}^n \\sum_{j=1}^i x_j$\n",
    "\n",
    "         | i\\j | j=1 | j=2 | j=3 | ... |\n",
    "         |-----|-----|-----|-----|-----|\n",
    "         | i=1 | x_1 |     |     |     |\n",
    "         | i=2 | x_1 | x_2 |     |     |\n",
    "         | i=3 | x_1 | x_2 | x_3 |     |\n",
    "         | ... |     |     |     |     |\n",
    "      </br></br>\n",
    "\n",
    "      - table for my solution formula $\\sum_{j=1}^n \\sum_{i=1}^{n+1-j} x_j$\n",
    "\n",
    "         | j\\i | i=1 | i=2 | i=3 | ... |\n",
    "         |-----|-----|-----|-----|-----|\n",
    "         | j=1 | x_1 | x_2 | x_3 |     |\n",
    "         | j=2 | x_1 | x_2 |     |     |\n",
    "         | j=3 | x_1 |     |     |     |\n",
    "         | ... |     |     |     |     |\n",
    "      </br></br>\n",
    "\n",
    "      - table for ChatGPTs solution formula $\\sum_{j=1}^n \\sum_{i=j}^n x_j$\n",
    "\n",
    "         | j\\i | i=j | i=j+1 | i=j+2 | ... |\n",
    "         |-----|-----|-------|-------|-----|\n",
    "         | j=1 | x_1 |  x_2  |  x_3  |     |\n",
    "         | j=2 | x_2 |  x_3  |       |     |\n",
    "         | j=3 | x_3 |       |       |     |\n",
    "         | ... |     |       |       |     |\n",
    "\n",
    "         - this is not the same as above, if I've done it correctly"
   ]
  },
  {
   "cell_type": "code",
   "execution_count": 6,
   "metadata": {},
   "outputs": [],
   "source": [
    "x = np.array([1,2,3])\n",
    "n = x.shape[0]"
   ]
  },
  {
   "cell_type": "markdown",
   "metadata": {},
   "source": [
    "   - Coding and evaluating the original formula $\\sum_{i=1}^n \\sum_{j=1}^i x_j$:"
   ]
  },
  {
   "cell_type": "code",
   "execution_count": 7,
   "metadata": {},
   "outputs": [
    {
     "data": {
      "text/plain": [
       "10"
      ]
     },
     "execution_count": 7,
     "metadata": {},
     "output_type": "execute_result"
    }
   ],
   "source": [
    "result = 0\n",
    "\n",
    "for i in range(1, n+1):\n",
    "    for j in range(1, i+1):\n",
    "        result += x[j-1]\n",
    "\n",
    "result"
   ]
  },
  {
   "cell_type": "markdown",
   "metadata": {},
   "source": [
    "   - Coding and evaluating my solution $\\sum_{j=1}^n \\sum_{i=1}^{n+1-j} x_j$:"
   ]
  },
  {
   "cell_type": "code",
   "execution_count": 9,
   "metadata": {},
   "outputs": [
    {
     "data": {
      "text/plain": [
       "10"
      ]
     },
     "execution_count": 9,
     "metadata": {},
     "output_type": "execute_result"
    }
   ],
   "source": [
    "result = 0\n",
    "\n",
    "for j in range(1, n+1):\n",
    "    for i in range(1, n+2-j):\n",
    "        result += x[j-1]\n",
    "\n",
    "result"
   ]
  },
  {
   "cell_type": "markdown",
   "metadata": {},
   "source": [
    "   - Coding and evaluating ChatGPTs solution $\\sum_{j=1}^n \\sum_{i=j}^n x_j$:"
   ]
  },
  {
   "cell_type": "code",
   "execution_count": 10,
   "metadata": {},
   "outputs": [
    {
     "data": {
      "text/plain": [
       "18"
      ]
     },
     "execution_count": 10,
     "metadata": {},
     "output_type": "execute_result"
    }
   ],
   "source": [
    "result = 0\n",
    "\n",
    "for j in range(1, n+1):\n",
    "    for i in range(1, n+1):\n",
    "        result += x[j-1]\n",
    "\n",
    "result"
   ]
  },
  {
   "cell_type": "markdown",
   "metadata": {},
   "source": [
    "- After looking at the code implementations, I still believe my answer is correct and ChatGPT is wrong. After discussing with it a bit more, it finally agreed that I was right, but what does this mean?"
   ]
  },
  {
   "cell_type": "markdown",
   "metadata": {},
   "source": [
    "---\n",
    "\n",
    "## Advanced Exercises (Manipulating Formulas)\n",
    "\n",
    "7. Split Double Sums: Simplify:\n",
    "   $\\sum_{i=1}^n \\sum_{j=1}^m (a_i + b_j) = m* \\sum_{i=1}^n (a_i) + n * \\sum_{j=1}^m (b_j)$\n",
    "\n",
    "8. Combine Double Sums: Combine into a single summation:\n",
    "   $\\sum_{i=1}^n x_i + \\sum_{j=1}^m y_j = \\sum_{k=1}^{n+m} \\left( x_k \\cdot \\mathbf{1}_{k \\leq n} + y_{k-n} \\cdot \\mathbf{1}_{k > n} \\right)$\n",
    "\n",
    "   - not my solution; I knew that this is what we need to do, but how would I figure out how to write this down without having seen something similar before?\n",
    "   - what I have learned:\n",
    "      - here, $\\mathbf{1}_{k \\leq n}$​ and $\\mathbf{1}_{k > n}$​ are indicator functions that select the correct terms\n",
    "      - ${k \\leq n}$ and $k > n$ are conditions, that can be used to select elements peacewise\n",
    "\n",
    "9. Factor Out Variables: Simplify:\n",
    "   $\\sum_{i=1}^n \\sum_{j=1}^m (a_i b_j) = \\sum_{j=1}^m b_j * \\sum_{i=1}^n a_i$\n",
    "\n",
    "---"
   ]
  },
  {
   "cell_type": "markdown",
   "metadata": {},
   "source": [
    "## Coding Exercises\n",
    "\n",
    "10. Write Code to Compute Summations: </br>\n",
    "\n",
    "    a. Write a program to compute: $\\sum_{i=1}^n i^2$ </br>"
   ]
  },
  {
   "cell_type": "code",
   "execution_count": null,
   "metadata": {},
   "outputs": [
    {
     "data": {
      "text/plain": [
       "55"
      ]
     },
     "execution_count": 15,
     "metadata": {},
     "output_type": "execute_result"
    }
   ],
   "source": [
    "# 10 a) loops\n",
    "n = 5\n",
    "\n",
    "sum = 0\n",
    "for i in range(1, n+1):\n",
    "    sum += i**2\n",
    "\n",
    "sum"
   ]
  },
  {
   "cell_type": "code",
   "execution_count": null,
   "metadata": {},
   "outputs": [
    {
     "data": {
      "text/plain": [
       "55"
      ]
     },
     "execution_count": 20,
     "metadata": {},
     "output_type": "execute_result"
    }
   ],
   "source": [
    "# 10 a) vectorized\n",
    "\n",
    "# my attempt, well being aware that I should not use a list comprehension:\n",
    "arr = np.full(shape=(n,), fill_value=[i**2 for i in range(1, n+1)])\n",
    "np.sum(arr)\n",
    "\n",
    "# ChatGPTs solution:\n",
    "arr = np.arange(1, n+1) # using np.arange for indexing!!!\n",
    "np.sum(arr**2)\n"
   ]
  },
  {
   "cell_type": "markdown",
   "metadata": {},
   "source": [
    "10. Write Code to Compute Summations: </br>\n",
    "   \n",
    "    b. Write a nested loop to compute: $\\sum_{i=1}^m \\sum_{j=1}^n x_{i,j}$"
   ]
  },
  {
   "cell_type": "code",
   "execution_count": null,
   "metadata": {},
   "outputs": [
    {
     "data": {
      "text/plain": [
       "6.0"
      ]
     },
     "execution_count": 26,
     "metadata": {},
     "output_type": "execute_result"
    }
   ],
   "source": [
    "# 10 b) loops\n",
    "m = 3\n",
    "n = 2\n",
    "\n",
    "arr = np.ones(shape=(m+10,n+5))\n",
    "\n",
    "sum = 0\n",
    "for i in range(m):\n",
    "    for j in range(n):\n",
    "        sum += arr[i,j]\n",
    "\n",
    "sum # my solution"
   ]
  },
  {
   "cell_type": "code",
   "execution_count": null,
   "metadata": {},
   "outputs": [
    {
     "data": {
      "text/plain": [
       "6.0"
      ]
     },
     "execution_count": 27,
     "metadata": {},
     "output_type": "execute_result"
    }
   ],
   "source": [
    "# 10 b) vectorized\n",
    "\n",
    "arr[:m,:n].sum() # my solution"
   ]
  },
  {
   "cell_type": "markdown",
   "metadata": {},
   "source": [
    "11. Write code to compute it by swapping the summation order: </br>\n",
    "\n",
    "    $\\sum_{i=1}^n \\sum_{j=1}^i x_j$"
   ]
  },
  {
   "cell_type": "code",
   "execution_count": null,
   "metadata": {},
   "outputs": [
    {
     "data": {
      "text/plain": [
       "20"
      ]
     },
     "execution_count": 46,
     "metadata": {},
     "output_type": "execute_result"
    }
   ],
   "source": [
    "# 11) loops\n",
    "n = 4\n",
    "\n",
    "arr = np.arange(1, n+1)\n",
    "\n",
    "sum = 0\n",
    "for i in range(n): # my solution\n",
    "    sum += (i+1)*arr[-(i+1)]\n",
    "sum\n",
    "\n",
    "# ChatGPT again says it's wrong, but it's a similar issue as above: when it gets too\n",
    "# complex, it cannot step outside its language mode; my solution is correct\n",
    "\n",
    "# but actually, its solution is simpler:\n",
    "sum = 0\n",
    "for i in range(n):\n",
    "    sum += np.sum(arr[:i+1])\n",
    "sum"
   ]
  },
  {
   "cell_type": "code",
   "execution_count": 53,
   "metadata": {},
   "outputs": [
    {
     "data": {
      "text/plain": [
       "20"
      ]
     },
     "execution_count": 53,
     "metadata": {},
     "output_type": "execute_result"
    }
   ],
   "source": [
    "# 11) vectorized\n",
    "np.sum(np.cumsum(arr)) # ChatGPTs beautiful solution\n",
    "\n",
    "# for example:\n",
    "n = 4\n",
    "arr = np.arange(1, n+1)\n",
    "arr # array([1, 2, 3, 4])\n",
    "np.cumsum(arr) # array([ 1,  3,  6, 10])\n",
    "np.sum(np.cumsum(arr)) # 20"
   ]
  },
  {
   "cell_type": "markdown",
   "metadata": {},
   "source": [
    "12. Optimize Code for Large Summations. Optimize by un-nesting the sums: </br>\n",
    "\n",
    "    $\\sum_{i=1}^{100000} \\sum_{j=1}^{1000} (i \\cdot j)$\n"
   ]
  },
  {
   "cell_type": "code",
   "execution_count": null,
   "metadata": {},
   "outputs": [
    {
     "data": {
      "text/plain": [
       "2502525025000000"
      ]
     },
     "execution_count": 58,
     "metadata": {},
     "output_type": "execute_result"
    }
   ],
   "source": [
    "# 12) vectorized\n",
    "thousand = np.arange(1,1001)\n",
    "hundredthousand = np.arange(1,100001)\n",
    "\n",
    "np.sum(thousand) * np.sum(hundredthousand) # my solution"
   ]
  },
  {
   "cell_type": "markdown",
   "metadata": {},
   "source": [
    "13. Simplify Nested Summation: $\\sum_{i=1}^n \\sum_{j=1}^n (i + j)$"
   ]
  },
  {
   "cell_type": "code",
   "execution_count": null,
   "metadata": {},
   "outputs": [
    {
     "data": {
      "text/plain": [
       "36"
      ]
     },
     "execution_count": 63,
     "metadata": {},
     "output_type": "execute_result"
    }
   ],
   "source": [
    "# 13) vectorized\n",
    "n = 3\n",
    "\n",
    "indices = np.arange(1,n+1)\n",
    "2*n*indices.sum() # my solution"
   ]
  },
  {
   "cell_type": "markdown",
   "metadata": {},
   "source": [
    "14. Weighted Average: $\\hat{y} = \\sum_{i=1}^n w_i y_i$"
   ]
  },
  {
   "cell_type": "code",
   "execution_count": null,
   "metadata": {},
   "outputs": [
    {
     "data": {
      "text/plain": [
       "10"
      ]
     },
     "execution_count": 65,
     "metadata": {},
     "output_type": "execute_result"
    }
   ],
   "source": [
    "# 14) vectorized\n",
    "y = np.array([1,2,3,4])\n",
    "weights = np.ones_like(y)\n",
    "\n",
    "weights.T@y # my solution (I had already come across that)"
   ]
  },
  {
   "cell_type": "markdown",
   "metadata": {},
   "source": [
    "15. Dot Product with Summation: $\\mathbf{a} \\cdot \\mathbf{b} = \\sum_{i=1}^n a_i b_i$"
   ]
  },
  {
   "cell_type": "code",
   "execution_count": null,
   "metadata": {},
   "outputs": [
    {
     "data": {
      "text/plain": [
       "22"
      ]
     },
     "execution_count": 66,
     "metadata": {},
     "output_type": "execute_result"
    }
   ],
   "source": [
    "# 15) vectorized\n",
    "a = np.array([1,2,3,4])\n",
    "b = np.array([12,0,2,1])\n",
    "\n",
    "a.T@b # my solution (like the previous one)"
   ]
  }
 ],
 "metadata": {
  "kernelspec": {
   "display_name": "isl",
   "language": "python",
   "name": "python3"
  },
  "language_info": {
   "codemirror_mode": {
    "name": "ipython",
    "version": 3
   },
   "file_extension": ".py",
   "mimetype": "text/x-python",
   "name": "python",
   "nbconvert_exporter": "python",
   "pygments_lexer": "ipython3",
   "version": "3.12.2"
  }
 },
 "nbformat": 4,
 "nbformat_minor": 2
}
