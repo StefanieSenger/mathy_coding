{
 "cells": [
  {
   "cell_type": "markdown",
   "id": "fb6e30ee",
   "metadata": {},
   "source": [
    "## Course Math in Python\n",
    "These are my notes from the LinkedIn Learning course [\"Programming Foundations:\n",
    "Numerical Mathematics and\n",
    "Calculations\"](https://www.linkedin.com/learning/programming-foundations-numerical-mathematics-and-calculations/numerical-mathematics-and-calculations-for-programming?resume=false&u=72605090)\n",
    "by Terezija Semenski, that introduces math notation with Python.\n",
    "\n",
    "I also try coding things that were only mathematically described in the course and I\n",
    "dig into a few topics and find out more about them, also noting my findings and\n",
    "experiments down here.\n",
    "\n",
    "### Python's math module\n",
    "- is for single terms only (no vectorisation)\n",
    "\n",
    "### Sequences and Series\n",
    "\n",
    "- a sequence is a list of elements in a particular order, where each element (also called \"term\") can be a number, a function, a character, or a name\n",
    "\n",
    "- for instance Fibonacci Sequence, defined as: <br>\n",
    "    $a_1 = a_2 = 1$ <br>\n",
    "    $a_n = a_{n-1} + a_{n-2}$ <br>\n",
    "    or defined by a closed or open interval"
   ]
  },
  {
   "cell_type": "code",
   "execution_count": 3,
   "id": "0e739d3b",
   "metadata": {},
   "outputs": [
    {
     "data": {
      "text/plain": [
       "[1, 4, 7, 10, 13, 16, 19, 22, 25, 28]"
      ]
     },
     "execution_count": 3,
     "metadata": {},
     "output_type": "execute_result"
    }
   ],
   "source": [
    "# exercise: find formula for sequence {1,4,7,10,13,16,...}\n",
    "\n",
    "# solution: a_n = 1 + (n-1)*3\n",
    "sequence_first_10 = [1 + (n-1)*3 for n in range(1,11)]\n",
    "sequence_first_10"
   ]
  },
  {
   "cell_type": "code",
   "execution_count": 4,
   "id": "e4f74c7a",
   "metadata": {},
   "outputs": [
    {
     "data": {
      "text/plain": [
       "[1, 4, 9, 16, 25, 36, 49, 64, 81, 100]"
      ]
     },
     "execution_count": 4,
     "metadata": {},
     "output_type": "execute_result"
    }
   ],
   "source": [
    "# exercise: find formula for sequence {1,4,9,16,25,36,49,64,...}\n",
    "# (there's an error in the course: they had forgotten to add the \"49\", but had meant to add it)\n",
    "\n",
    "# solution: a_n = n**2\n",
    "sequence_first_10 = [n**2 for n in range(1,11)]\n",
    "sequence_first_10"
   ]
  },
  {
   "cell_type": "markdown",
   "id": "2eabdbfa",
   "metadata": {},
   "source": [
    "- the two most important types of sequences are \"arithmetic progression\" and \"geometric\n",
    "  progression\":\n",
    "\n",
    "  - arithmetic progression:\n",
    "\n",
    "    - is a sequence where the difference between every two\n",
    "      consecutive terms is the same: <br> \n",
    "      ${a_1, a_1+d, a_1+2d, a_1+3d, ...}$\n",
    "    \n",
    "    - the sum of the first $n$ terms (when $n$ th term is not known): <br>\n",
    "      $S_n = n/2(2a_1 + (n-1)d)$\n",
    "\n",
    "    - the sum of the first $n$ terms (when $n$ th term is known): <br>\n",
    "      $S_n = n/2(a_1 + a_n)$\n",
    "\n",
    "  - geometric progression:\n",
    "\n",
    "    - is a sequence where the ratio of any term and its previous term is equal to a\n",
    "      fixed constant: <br> \n",
    "      ${a_1, a_1r, a_1r^2, a_1r^3, ...}$ and $r$ is the common ratio of progression\n",
    "\n",
    "    - the $n$ th term can be calculated: <br>\n",
    "      $a_n = a_1r^{n-1}$\n",
    "\n",
    "    - the sum of the first $n$ terms: <br>\n",
    "      $S_n = \\frac{a_1(r^n - 1)}{r-1}, r\\ne1$"
   ]
  },
  {
   "cell_type": "code",
   "execution_count": 6,
   "id": "66950b41",
   "metadata": {},
   "outputs": [
    {
     "data": {
      "text/plain": [
       "[2, 5, 8, 11, 14, 17, 20, 23, 26, 29]"
      ]
     },
     "execution_count": 6,
     "metadata": {},
     "output_type": "execute_result"
    }
   ],
   "source": [
    "# arithmetic progression:\n",
    "\n",
    "# exercise: find formula for sequence {2,5,8,11,14,17,...}\n",
    "\n",
    "# solution: a_n = 2 + (n-1)*3\n",
    "sequence_first_10 = [ 2 + (n-1)*3 for n in range(1,11)]\n",
    "sequence_first_10"
   ]
  },
  {
   "cell_type": "markdown",
   "id": "a1d52370",
   "metadata": {},
   "source": [
    "- `np.arange(start, stop, step)` creates an arithmetic sequence — numbers spaced by a\n",
    "  fixed step\n",
    "  - only `stop` value is mandatory, rest is optional"
   ]
  },
  {
   "cell_type": "code",
   "execution_count": 10,
   "id": "ecb65387",
   "metadata": {},
   "outputs": [
    {
     "data": {
      "text/plain": [
       "array([ 2,  5,  8, 11, 14, 17, 20, 23, 26, 29])"
      ]
     },
     "execution_count": 10,
     "metadata": {},
     "output_type": "execute_result"
    }
   ],
   "source": [
    "import numpy as np\n",
    "\n",
    "np.arange(2, 30, 3)"
   ]
  },
  {
   "cell_type": "markdown",
   "id": "6a12128c",
   "metadata": {},
   "source": [
    "- `np.linspace(start, stop, num)` creates a sequence of `num` evenly spaced points\n",
    "  between two values:"
   ]
  },
  {
   "cell_type": "code",
   "execution_count": 13,
   "id": "5c1febd2",
   "metadata": {},
   "outputs": [
    {
     "data": {
      "text/plain": [
       "array([ 2.,  5.,  8., 11., 14., 17., 20., 23., 26., 29.])"
      ]
     },
     "execution_count": 13,
     "metadata": {},
     "output_type": "execute_result"
    }
   ],
   "source": [
    "np.linspace(2, 29, 10)"
   ]
  },
  {
   "cell_type": "code",
   "execution_count": null,
   "id": "5541a637",
   "metadata": {},
   "outputs": [
    {
     "data": {
      "text/plain": [
       "[2, 4, 8, 16, 32, 64, 128, 256, 512, 1024]"
      ]
     },
     "execution_count": 7,
     "metadata": {},
     "output_type": "execute_result"
    }
   ],
   "source": [
    "# geometric progression:\n",
    "\n",
    "# exercise: find formula for sequence {2,4,8,16,32,64,...}\n",
    "\n",
    "# solution: a_n = 2**n\n",
    "sequence_first_10 = [2**n for n in range(1,11)]\n",
    "sequence_first_10"
   ]
  },
  {
   "cell_type": "markdown",
   "id": "788dc47f",
   "metadata": {},
   "source": [
    "- `np.logspace(start_exp, stop_exp, num)` creates a geometric sequence in logarithmic\n",
    "  space, where the numbers are spaced evenly on a log scale:"
   ]
  },
  {
   "cell_type": "code",
   "execution_count": null,
   "id": "ec8a6246",
   "metadata": {},
   "outputs": [
    {
     "data": {
      "text/plain": [
       "array([   2,    4,    8,   16,   32,   64,  128,  256,  512, 1024])"
      ]
     },
     "execution_count": 20,
     "metadata": {},
     "output_type": "execute_result"
    }
   ],
   "source": [
    "np.logspace(1, 10, num=10, base=2, dtype=int)"
   ]
  },
  {
   "cell_type": "markdown",
   "id": "237cb302",
   "metadata": {},
   "source": [
    "- a series is the sum of the terms of a sequence\n",
    "    - can also be defined by a closed or open interval\n",
    "\n",
    "- when we calculate the sum of the first $n$ elements, this also called a \"partial sum\",\n",
    "  often expressed using the summation symbol\n",
    "\n",
    "- when the sum of a series approaches a finite value, we call the series *convergent*\n",
    "    - a convergent series is a series where the sequence of partial sums has a finite\n",
    "      limit\n",
    "\n",
    "- when the sum of a series does not converge, it head to infinity and we call it *divergent*\n",
    "\n",
    "- for examples on coding series both with loops and vectorised, see my [exercise sheet on summations](https://github.com/StefanieSenger/mathy_coding/blob/main/summations.ipynb)\n",
    "\n",
    "### Vectors\n",
    "\n",
    "- caution: I noted some mixing in terminology in how the concept of \"dimension\"\n",
    "is defined: <br>\n",
    "In the course they say, that in linear algebra the *dimensionality* is the number of\n",
    "elements in a vector and that both $a = \\begin{bmatrix} 1 \\\\ 2 \\end{bmatrix}$ and $b =\n",
    "[-3, 8]$ were 2-dimensional vectors, but that is very different from how array\n",
    "dimensions are defined, which I had recently learned when looking into [numpy\n",
    "indexing](https://github.com/StefanieSenger/Playground/blob/main/numpy_indexing.ipynb):"
   ]
  },
  {
   "cell_type": "code",
   "execution_count": 27,
   "id": "21e2db40",
   "metadata": {},
   "outputs": [
    {
     "data": {
      "text/plain": [
       "2"
      ]
     },
     "execution_count": 27,
     "metadata": {},
     "output_type": "execute_result"
    }
   ],
   "source": [
    "a = np.array([[1],[2]])\n",
    "a\n",
    "# array([[1],\n",
    "#        [2]])\n",
    "\n",
    "a.ndim"
   ]
  },
  {
   "cell_type": "code",
   "execution_count": 26,
   "id": "eddc94b3",
   "metadata": {},
   "outputs": [
    {
     "data": {
      "text/plain": [
       "1"
      ]
     },
     "execution_count": 26,
     "metadata": {},
     "output_type": "execute_result"
    }
   ],
   "source": [
    "b = np.array([-3,8])\n",
    "b\n",
    "# array([-3,  8])\n",
    "\n",
    "b.ndim"
   ]
  },
  {
   "cell_type": "code",
   "execution_count": 32,
   "id": "0e2f87c3",
   "metadata": {},
   "outputs": [
    {
     "data": {
      "text/plain": [
       "array([[ 1],\n",
       "       [ 2],\n",
       "       [ 3],\n",
       "       [ 4],\n",
       "       [ 5],\n",
       "       [ 6],\n",
       "       [ 7],\n",
       "       [ 8],\n",
       "       [ 9],\n",
       "       [10]])"
      ]
     },
     "execution_count": 32,
     "metadata": {},
     "output_type": "execute_result"
    }
   ],
   "source": [
    "# orientation of vectors in numpy\n",
    "\n",
    "c_as_row_vector = np.array([[1,2,3,4,5,6,7,8,9,10]])\n",
    "c_as_row_vector # array([[ 1,  2,  3,  4,  5,  6,  7,  8,  9, 10]])\n",
    "\n",
    "c_as_column_vector = np.array([[1],[2],[3],[4],[5],[6],[7],[8],[9],[10]])\n",
    "c_as_column_vector"
   ]
  },
  {
   "cell_type": "markdown",
   "id": "14047075",
   "metadata": {},
   "source": [
    "Vector artithmetic\n",
    "- `+` , `-`, `*` and `\\` are defined element-wise\n",
    "- there is also scalar multiplication and division\n",
    "\n",
    "Plot in cartesian coordinate system"
   ]
  },
  {
   "cell_type": "code",
   "execution_count": 38,
   "id": "0b909882",
   "metadata": {},
   "outputs": [
    {
     "data": {
      "image/png": "[encoded data removed]",
      "text/plain": [
       "<Figure size 640x480 with 1 Axes>"
      ]
     },
     "metadata": {},
     "output_type": "display_data"
    }
   ],
   "source": [
    "import matplotlib.pyplot as plt\n",
    "import random\n",
    "\n",
    "for i in range(5):\n",
    "    x = random.randint(-3,3)\n",
    "    y = random.randint(-3,3)\n",
    "    plt.plot(x,y,\"ro\")\n",
    "\n",
    "plt.axis(\"square\") # scales both axes the same\n",
    "plt.grid()\n",
    "\n",
    "plt.show()"
   ]
  },
  {
   "cell_type": "code",
   "execution_count": null,
   "id": "d52690f9",
   "metadata": {},
   "outputs": [
    {
     "data": {
      "image/png": "[encoded data removed]",
      "text/plain": [
       "<Figure size 640x480 with 1 Axes>"
      ]
     },
     "metadata": {},
     "output_type": "display_data"
    }
   ],
   "source": [
    "# plot a vector\n",
    "\n",
    "ax = plt.axes()\n",
    "ax.arrow(2,1,1,6, head_width=0.2, head_length=0.2) # 2,1,1,6 defined the starting points and the slope\n",
    "plt.xlim(0,10)\n",
    "plt.ylim(0,10)\n",
    "plt.show()"
   ]
  },
  {
   "cell_type": "markdown",
   "id": "f019ba9a",
   "metadata": {},
   "source": [
    "Dot product on vectors\n",
    "- defined as $\\mathbf{a} \\cdot \\mathbf{b} = \\sum_{i=1}^n a_i b_i$, where $a$ and $b$ are\n",
    "  vectors of the same dimensionality\n",
    "- the result is a single number from $\\R$ and provides information about their relationship:\n",
    "    - Positive value: vectors point roughly in the same direction; their angle is less than 90°\n",
    "    - Zero: vectors are orthogonal (perpendicular) to each other; they have no directional overlap\n",
    "    - Negative value: vectors point roughly in opposite directions; their angle is greater than 90°"
   ]
  },
  {
   "cell_type": "code",
   "execution_count": null,
   "id": "b74162e8",
   "metadata": {},
   "outputs": [
    {
     "name": "stdout",
     "output_type": "stream",
     "text": [
      "Dot product: -0.017 (angle: 91 degrees)\n",
      "Cosine of angle: -0.017 (angle: 91 degrees)\n"
     ]
    },
    {
     "data": {
      "image/png": "[encoded data removed]",
      "text/plain": [
       "<Figure size 500x500 with 1 Axes>"
      ]
     },
     "metadata": {},
     "output_type": "display_data"
    }
   ],
   "source": [
    "# for example\n",
    "\n",
    "def plot_vectors(vecs, colors):\n",
    "    origin = np.zeros(2)\n",
    "    for v, c in zip(vecs, colors):\n",
    "        plt.arrow(*origin, *v, color=c, head_width=0.1, length_includes_head=True)\n",
    "    plt.xlim(-2, 2)\n",
    "    plt.ylim(-2, 2)\n",
    "    plt.grid(True)\n",
    "\n",
    "a = np.array([1, 0])  # along x-axis\n",
    "angle_deg = 91\n",
    "angle_rad = np.deg2rad(angle_deg)\n",
    "b = np.array([np.cos(angle_rad), np.sin(angle_rad)])\n",
    "\n",
    "dot = np.dot(a, b)\n",
    "print(f\"Dot product: {dot:.3f} (angle: {angle_deg} degrees)\")\n",
    "\n",
    "# Plot vectors\n",
    "plt.figure(figsize=(5,5))\n",
    "plot_vectors([a, b], ['blue', 'red'])\n",
    "plt.title(f'Vectors at {angle_deg}° with dot product {dot:.3f}')\n",
    "plt.show()\n"
   ]
  },
  {
   "cell_type": "markdown",
   "id": "d3d7db34",
   "metadata": {},
   "source": [
    "- used in\n",
    "    - compute weighted predictions in linear models ($X⋅w$)\n",
    "\n",
    "    - compute similarity in kernel based model ($K(x,z)=x⋅z$)\n",
    "\n",
    "    - measuring similarity or distance in clustering (for instance as cosine similarity)\n",
    "\n",
    "    - computing projections in dimensionality reduction ($projection=x⋅v$)\n",
    "\n",
    "    - updating gradients in optimisation routines\n",
    "\n",
    "Scalar and Vector Projections\n",
    "\n",
    "- vectors have two characteristics: direction and magnitude\n",
    "\n",
    "- magnitude (or *norm*) is the distance from head to tail\n",
    "\n",
    "- formula for magnitude: <br>\n",
    "\n",
    "    $\\parallel x \\parallel = \\sqrt{\\sum_{i=1}^n x_i^2}$\n",
    "\n",
    "    - which is a special case of the euclidean distance (only that here the other point\n",
    "      is the centre of the coordinate system)"
   ]
  },
  {
   "cell_type": "code",
   "execution_count": 54,
   "id": "ee0bf1fc",
   "metadata": {},
   "outputs": [
    {
     "data": {
      "text/plain": [
       "np.float64(30.495901363953813)"
      ]
     },
     "execution_count": 54,
     "metadata": {},
     "output_type": "execute_result"
    }
   ],
   "source": [
    "x = np.array([2,4,1,30,3])\n",
    "\n",
    "# first way\n",
    "magnitude_of_x = np.linalg.norm(x)\n",
    "magnitude_of_x\n",
    "\n",
    "# second way\n",
    "magnitude_of_x = np.sqrt(np.dot(x, x))\n",
    "magnitude_of_x"
   ]
  },
  {
   "cell_type": "markdown",
   "id": "effbddc0",
   "metadata": {},
   "source": [
    "- a *vector projection* of a vector $a$ onto $b$ is the orthogonal projection of $a$\n",
    "  onto $b$\n",
    "    - imagine as a shadow of $a$ falling onto $b$ if the light shines on a right angle\n",
    "      (90°)\n",
    "\n",
    "    - formula scalar projection: <br>\n",
    "        $s proj_a b = \\frac{a⋅b}{\\parallel b \\parallel}$\n",
    "\n",
    "    - formula vector projection: <br>\n",
    "        $v proj_a b = \\frac{a⋅b}{\\parallel b \\parallel^2} b$"
   ]
  },
  {
   "cell_type": "code",
   "execution_count": 71,
   "id": "b2954f0c",
   "metadata": {},
   "outputs": [
    {
     "data": {
      "text/plain": [
       "array([1.48514851, 1.98019802, 0.24752475])"
      ]
     },
     "execution_count": 71,
     "metadata": {},
     "output_type": "execute_result"
    }
   ],
   "source": [
    "# vector projection\n",
    "a = np.array([1,2,3])\n",
    "b = np.array([6,8,1])\n",
    "\n",
    "# since (np.sqrt(np.dot(x, x)))**2 = np.dot(x, x):\n",
    "projection_of_a_onto_b = (np.dot(a, b) / np.dot(b,b)) * b\n",
    "projection_of_a_onto_b"
   ]
  },
  {
   "cell_type": "code",
   "execution_count": 74,
   "id": "878a91e4",
   "metadata": {},
   "outputs": [
    {
     "data": {
      "image/png": "[encoded data removed]",
      "text/plain": [
       "<Figure size 500x500 with 1 Axes>"
      ]
     },
     "metadata": {},
     "output_type": "display_data"
    }
   ],
   "source": [
    "import numpy as np\n",
    "import matplotlib.pyplot as plt\n",
    "\n",
    "a = np.array([1, 2])\n",
    "b = np.array([-2, 3])\n",
    "origin = np.zeros(2)\n",
    "\n",
    "# Vector projection of a onto b:\n",
    "projection_of_a_onto_b = (np.dot(a, b) / np.dot(b, b)) * b\n",
    "\n",
    "plt.figure(figsize=(5, 5))\n",
    "\n",
    "# Original vectors\n",
    "plt.arrow(*origin, *a, color='blue', head_width=0.1, length_includes_head=True, label='a')\n",
    "plt.arrow(*origin, *b, color='red', head_width=0.1, length_includes_head=True, label='b')\n",
    "\n",
    "# Projected vector\n",
    "plt.arrow(*origin, *projection_of_a_onto_b, color='green', head_width=0.1, length_includes_head=True, label='proj_a_on_b')\n",
    "\n",
    "plt.grid(True)\n",
    "plt.axis('equal')\n",
    "plt.legend(['a', 'b', 'proj of a onto b'])\n",
    "plt.show()\n"
   ]
  },
  {
   "cell_type": "markdown",
   "id": "1bcfe730",
   "metadata": {},
   "source": [
    "- the projection vector generally does not have the same magnitude as the original\n",
    "  (projected) vector\n",
    "\n",
    "- asking \"How much of vector b is pointing in the direction of vector a?\"\n",
    "\n",
    "- vector projection is used isolate how much of one vector \"acts along\" another vector\n",
    "  - decomposing information into subspaces\n",
    "  - least-squares solutions (e.g. projecting a point onto a regression line)\n",
    "\n",
    "#### Basis, linear independence and span\n",
    "\n",
    "- a vector $a$ is linearly dependent on vectors $v_1$ and $v_2$, if it can be written as <br>\n",
    "  $a = a_1 ⋅ v_1 + a_2 ⋅ v_2$\n",
    "\n",
    "- a spanning set is a set of vectors that are linearly independent from each other\n",
    "  spanning a space, also called *basis*\n",
    "\n",
    "### Matrices\n",
    "\n",
    "- can be used to express transformations ($T$)\n",
    "\n",
    "- linear transformation is a transformation that preserves vector addition and scalar\n",
    "  multiplication (that's a bit vague, but I forgot how it is defined more thoroughly)\n",
    "\n",
    "    - for any input vectors $u$ and $v$: $T(u+v) = T(u) + T(v)$\n",
    "    - for any pair of scalar $s$ and vector $v$: $s⋅T(v) = T(s⋅v)$\n",
    "\n",
    "- types of transformations (work both on vectors and on other matrices)\n",
    "\n",
    "  - identity (`np.eye()`)\n",
    "    - often used as a helper\n",
    "  - diagonal matrix for scaling\n",
    "    - used in feature scaling / normalization, PCA (by multiplying with matrix of\n",
    "      eigenvectors, which combines scaling and rotating), linear models (since\n",
    "      multiplying with trained weight vector is like scaling)\n",
    "  - rotation\n",
    "    - used in PCA (and image augmentation)\n",
    "  - translation (shifting)\n",
    "    - centering data (subtract the mean), bias term in linear models"
   ]
  },
  {
   "cell_type": "code",
   "execution_count": null,
   "id": "3f87f918",
   "metadata": {},
   "outputs": [
    {
     "data": {
      "text/plain": [
       "array([[0],\n",
       "       [5]])"
      ]
     },
     "execution_count": 87,
     "metadata": {},
     "output_type": "execute_result"
    }
   ],
   "source": [
    "# scaling with diagonal matrix\n",
    "\n",
    "A = np.array([[2, 0], [0, 5]])\n",
    "A # will scale the x-axis by 2 and the y-axis by 5\n",
    "# array([[2, 0],\n",
    "#        [0, 5]])\n",
    "\n",
    "# basis vectors for demonstration\n",
    "e1 = np.array([[1], [0]])\n",
    "e2 = np.array([[0], [1]])\n",
    "\n",
    "scaled_e1 = np.dot(A, e1)\n",
    "scaled_e1\n",
    "# array([[2],\n",
    "#       [0]])\n",
    "\n",
    "scaled_e2 = np.dot(A, e2)\n",
    "scaled_e2\n",
    "# array([[0],\n",
    "#       [5]])\n",
    "\n",
    "# best praxis is to multiply the matrix from the left side and what is supposed to be\n",
    "# transform from the right side; ChatGPT says `np.dot(e1, A)` and `np.dot(A, e1)` both\n",
    "# work, because numpy would interpret e1 either as a row or as a column vector -\n",
    "# whatever is needed to make matrix multiplication possible"
   ]
  },
  {
   "cell_type": "markdown",
   "id": "d5a60de6",
   "metadata": {},
   "source": [
    "- Here, I had a conversation with ChatGPT about if `e1` and / or `e2` should be column\n",
    "  or row vectors. At first I thought one should be a row vector and the other a column\n",
    "  vector. But it seems that a basis is expressed with all column vectors mathematically,\n",
    "  so they should both be column vectors (even though numpy could also accommodate row\n",
    "  vectors)."
   ]
  },
  {
   "cell_type": "code",
   "execution_count": null,
   "id": "488e6466",
   "metadata": {},
   "outputs": [
    {
     "data": {
      "text/plain": [
       "array([[0.70710678],\n",
       "       [0.70710678]])"
      ]
     },
     "execution_count": 93,
     "metadata": {},
     "output_type": "execute_result"
    }
   ],
   "source": [
    "# rotation by positive angle `theta` (counterclock-wise)\n",
    "import math \n",
    "\n",
    "# attention: math.cos and math.sin expect values in radiants\n",
    "theta = math.radians(90)\n",
    "\n",
    "A = np.array([[math.cos(theta), -math.sin(theta)], [math.sin(theta), math.cos(theta)]])\n",
    "A # will rotate the basis vectors by angle `theta`\n",
    "# array([[ 6.123234e-17, -1.000000e+00],\n",
    "#        [ 1.000000e+00,  6.123234e-17]])\n",
    "# which is basically close to [[ 0.  -1.]\n",
    "#                              [ 1.   0.]]\n",
    "\n",
    "# basis vectors for demonstration\n",
    "e1 = np.array([[1], [0]])\n",
    "e2 = np.array([[0], [1]])\n",
    "\n",
    "rotated_e1 = np.dot(A, e1)\n",
    "rotated_e1\n",
    "# array([[6.123234e-17],\n",
    "#        [1.000000e+00]])\n",
    "\n",
    "rotated_e2 = np.dot(A, e2)\n",
    "rotated_e2\n",
    "# array([[-1.000000e+00],\n",
    "#        [ 6.123234e-17]])"
   ]
  },
  {
   "cell_type": "markdown",
   "id": "0eefa487",
   "metadata": {},
   "source": [
    "- we can see 1 and 0 basically switched after rotation by 90 degrees (which was expected)\n",
    "\n",
    "Solving linear equations\n",
    "- $A⋅x = b$ and we want to compute $x$"
   ]
  },
  {
   "cell_type": "code",
   "execution_count": 97,
   "id": "fed5f6c8",
   "metadata": {},
   "outputs": [
    {
     "data": {
      "text/plain": [
       "array([3., 2., 1.])"
      ]
     },
     "execution_count": 97,
     "metadata": {},
     "output_type": "execute_result"
    }
   ],
   "source": [
    "# use numpy for solving a system of equations\n",
    "\n",
    "A = np.array([[2,-1,2],[3,2,1],[1,-1,-1]])\n",
    "A\n",
    "# array([[ 2, -1,  2],\n",
    "#        [ 3,  2,  1],\n",
    "#        [ 1, -1, -1]])\n",
    "\n",
    "b = np.array([6,14,0])\n",
    "\n",
    "x = np.linalg.inv(A) @ b\n",
    "x"
   ]
  },
  {
   "cell_type": "markdown",
   "id": "fa43cdd4",
   "metadata": {},
   "source": [
    "### Exploring Data with Statistics\n",
    "\n",
    "- *dispersion* explains how far from the mean numbers in a set are stretched out\n",
    "    - does depend on how the data is scaled(!)\n",
    "\n",
    "- we measure dispersion using *range*, the *variance* and the *standard deviation*\n",
    "\n",
    "range\n",
    "- difference between the biggest and the smallest data point\n",
    "- $r = x_{max} - x_{min}$\n",
    "- depends on scaling and based on two extreme observations\n",
    "\n",
    "variance\n",
    "- $\\text{Var}(X) = \\frac{1}{n} \\sum_{i=1}^{n} (x_i - \\bar{x})^2$\n",
    "\n",
    "- *variance* highly depends on scaling: it increases quadratically with scaling!\n",
    "    - $\\text{Var}(aX) = a^2 \\cdot \\text{Var}(X)$\n",
    "\n",
    "    - if we multiply your data by 10, the variance becomes 100× larger\n",
    "\n",
    "standard deviation\n",
    "- is the square root of the variance and denoted with $\\sigma$\n",
    "- it converts the dispersion into the units of the sample\n",
    "\n",
    "### Sets and Probability"
   ]
  },
  {
   "cell_type": "code",
   "execution_count": 110,
   "id": "fa147323",
   "metadata": {},
   "outputs": [
    {
     "data": {
      "text/plain": [
       "6"
      ]
     },
     "execution_count": 110,
     "metadata": {},
     "output_type": "execute_result"
    }
   ],
   "source": [
    "from sympy import FiniteSet\n",
    "\n",
    "a = FiniteSet(1,2,3,4,5,9,9,9,9)\n",
    "a # {1,2,3,4,9}\n",
    "len(a)"
   ]
  },
  {
   "cell_type": "code",
   "execution_count": 111,
   "id": "d4eaaeb8",
   "metadata": {},
   "outputs": [
    {
     "data": {
      "text/plain": [
       "True"
      ]
     },
     "execution_count": 111,
     "metadata": {},
     "output_type": "execute_result"
    }
   ],
   "source": [
    "b = FiniteSet(1,2,9)\n",
    "b.issubset(a)"
   ]
  },
  {
   "cell_type": "markdown",
   "id": "1fda0ea8",
   "metadata": {},
   "source": [
    "- set operations include *union* and *intersection*, but also the *cartesian product*,\n",
    "  which is a new sets that contains all possible pairs made be taking an element from\n",
    "  each set"
   ]
  },
  {
   "cell_type": "code",
   "execution_count": 112,
   "id": "366ec525",
   "metadata": {},
   "outputs": [
    {
     "data": {
      "text/plain": [
       "[(1, 1),\n",
       " (1, 2),\n",
       " (1, 9),\n",
       " (2, 1),\n",
       " (2, 2),\n",
       " (2, 9),\n",
       " (3, 1),\n",
       " (3, 2),\n",
       " (3, 9),\n",
       " (4, 1),\n",
       " (4, 2),\n",
       " (4, 9),\n",
       " (5, 1),\n",
       " (5, 2),\n",
       " (5, 9),\n",
       " (9, 1),\n",
       " (9, 2),\n",
       " (9, 9)]"
      ]
     },
     "execution_count": 112,
     "metadata": {},
     "output_type": "execute_result"
    }
   ],
   "source": [
    "import itertools\n",
    "\n",
    "cartesian_product = itertools.product(a, b)\n",
    "cartesian_product # <itertools.product at 0x719bb4b49cc0>\n",
    "[ele for ele in cartesian_product]"
   ]
  },
  {
   "cell_type": "code",
   "execution_count": null,
   "id": "5c670b85",
   "metadata": {},
   "outputs": [
    {
     "data": {
      "text/latex": [
       "$\\displaystyle \\left\\{1, 2, 3, 4, 5, 9\\right\\} \\times \\left\\{1, 2, 9\\right\\}$"
      ],
      "text/plain": [
       "ProductSet({1, 2, 3, 4, 5, 9}, {1, 2, 9})"
      ]
     },
     "execution_count": 114,
     "metadata": {},
     "output_type": "execute_result"
    }
   ],
   "source": [
    "# another way to get the cartesian product\n",
    "a * b"
   ]
  },
  {
   "cell_type": "markdown",
   "id": "e613d9c8",
   "metadata": {},
   "source": [
    "Probability concepts\n",
    "\n",
    "- $S$ (sample space) is the set of all possible outcomes\n",
    "- $E$ is the event we want to calculate probability for\n",
    "- $P(E) = \\frac{n(E)}{n[S]}$ if $S$ follows a uniform distribution\n",
    "\n",
    "- difference of probability and likelihood (I had [treated this question before](https://github.com/StefanieSenger/Introduction_to_Statistical_Learning/blob/main/02_statistical_learning.ipynb), and try to approach more clarity here):\n",
    "    - probability: model is fixed → probability of data\n",
    "        - example: We assume a fair coin (p = 0.5) and ask: what is the probability of getting 7 heads in 10 tosses?\n",
    "        - use it when testing a hypothesis, for instance assuming a fair coin\n",
    "\n",
    "    - likelihood: data is fixed → evaluate model parameters\n",
    "        - now we have observed 7 heads and 3 tails and want to know what value of p (probability of heads) makes this data most likely\n",
    "        - asking: which value of p would make this data most likely?\n",
    "\n",
    "Probability of an intersection of two events\n",
    "\n",
    "- independent events: $P(A \\cap B) = P(A) \\cdot P(B)$\n",
    "\n",
    "Probability of union of two events\n",
    "\n",
    "- then both events are not mutually exclusive, we need not to count the probability of\n",
    "  both events occurring together twice and therefore need to subtract that\n",
    "\n",
    "\n",
    "Generating random numbers"
   ]
  },
  {
   "cell_type": "code",
   "execution_count": null,
   "id": "99dd2312",
   "metadata": {},
   "outputs": [
    {
     "data": {
      "text/plain": [
       "Generator(PCG64) at 0x719BB4B8D540"
      ]
     },
     "execution_count": 115,
     "metadata": {},
     "output_type": "execute_result"
    }
   ],
   "source": [
    "# random number generator for better reproducibility and to avoid unintended\n",
    "# interactions with other parts of code that also use randomness\n",
    "\n",
    "rng = np.random.default_rng(12345) # 12345 is the seed\n",
    "rng"
   ]
  },
  {
   "cell_type": "code",
   "execution_count": null,
   "id": "36253694",
   "metadata": {},
   "outputs": [
    {
     "data": {
      "text/plain": [
       "array([ 5,  8, 19, 13, 15,  4,  3,  2,  6,  1])"
      ]
     },
     "execution_count": 116,
     "metadata": {},
     "output_type": "execute_result"
    }
   ],
   "source": [
    "# create random integers\n",
    "rng.integers(1,20, size=10) # 1,20 is a range"
   ]
  },
  {
   "cell_type": "code",
   "execution_count": 118,
   "id": "a961f210",
   "metadata": {},
   "outputs": [
    {
     "data": {
      "text/plain": [
       "array([[0.25446652, 0.1217173 , 0.95104517, 0.22565876, 0.28013495],\n",
       "       [0.38711357, 0.25351328, 0.15709999, 0.38458041, 0.19770231],\n",
       "       [0.16888495, 0.45835734, 0.38969053, 0.97607985, 0.88257788],\n",
       "       [0.70393325, 0.5648412 , 0.17402401, 0.47429546, 0.1154837 ]])"
      ]
     },
     "execution_count": 118,
     "metadata": {},
     "output_type": "execute_result"
    }
   ],
   "source": [
    "# create random floats\n",
    "rng.random(size=(4,5))"
   ]
  },
  {
   "cell_type": "code",
   "execution_count": 121,
   "id": "03f1f44f",
   "metadata": {},
   "outputs": [
    {
     "data": {
      "text/plain": [
       "np.int64(3)"
      ]
     },
     "execution_count": 121,
     "metadata": {},
     "output_type": "execute_result"
    }
   ],
   "source": [
    "# random choice\n",
    "whole_truth = rng.integers(1,20, size=10)\n",
    "random.choice(whole_truth)"
   ]
  }
 ],
 "metadata": {
  "kernelspec": {
   "display_name": "mathy_coding",
   "language": "python",
   "name": "python3"
  },
  "language_info": {
   "codemirror_mode": {
    "name": "ipython",
    "version": 3
   },
   "file_extension": ".py",
   "mimetype": "text/x-python",
   "name": "python",
   "nbconvert_exporter": "python",
   "pygments_lexer": "ipython3",
   "version": "3.12.2"
  }
 },
 "nbformat": 4,
 "nbformat_minor": 5
}
